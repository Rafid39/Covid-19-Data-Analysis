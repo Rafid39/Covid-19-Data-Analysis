{
 "cells": [
  {
   "cell_type": "code",
   "execution_count": 1,
   "id": "9500743f-951e-4726-9817-19654ad26f6f",
   "metadata": {},
   "outputs": [],
   "source": [
    "import pandas as pd"
   ]
  },
  {
   "cell_type": "code",
   "execution_count": 18,
   "id": "69c8bd7b-43f8-4a07-982c-50899df919d3",
   "metadata": {},
   "outputs": [],
   "source": [
    "# Load the Excel file\n",
    "data = pd.read_csv(\"World_Data.csv\")\n",
    "\n",
    "# Replace blank or NaN values with None (interpreted as NULL in SQL)\n",
    "data = data.where(pd.notnull(data), None)"
   ]
  },
  {
   "cell_type": "code",
   "execution_count": 20,
   "id": "76005f00-c8c0-4ad3-a8b9-1306c711a6a7",
   "metadata": {},
   "outputs": [
    {
     "name": "stdout",
     "output_type": "stream",
     "text": [
      "                   Country      Continent    Population  Total_Cases  \\\n",
      "0                      USA  North America  3.311981e+08      5032179   \n",
      "1                   Brazil  South America  2.127107e+08      2917562   \n",
      "2                    India           Asia  1.381345e+09      2025409   \n",
      "3                   Russia         Europe  1.459409e+08       871894   \n",
      "4             South Africa         Africa  5.938157e+07       538184   \n",
      "..                     ...            ...           ...          ...   \n",
      "204             Montserrat  North America  4.992000e+03           13   \n",
      "205  Caribbean Netherlands  North America  2.624700e+04           13   \n",
      "206       Falkland Islands  South America  3.489000e+03           13   \n",
      "207           Vatican City         Europe  8.010000e+02           12   \n",
      "208         Western Sahara         Africa  5.986820e+05           10   \n",
      "\n",
      "     Unnamed: 4  Total_Deaths  Unnamed: 6  Total_Recovered  Unnamed: 8  \\\n",
      "0           NaN      162804.0         NaN        2576668.0         NaN   \n",
      "1           NaN       98644.0         NaN        2047660.0         NaN   \n",
      "2           NaN       41638.0         NaN        1377384.0         NaN   \n",
      "3           NaN       14606.0         NaN         676357.0         NaN   \n",
      "4           NaN        9604.0         NaN         387316.0         NaN   \n",
      "..          ...           ...         ...              ...         ...   \n",
      "204         NaN           1.0         NaN             10.0         NaN   \n",
      "205         NaN           NaN         NaN              7.0         NaN   \n",
      "206         NaN           NaN         NaN             13.0         NaN   \n",
      "207         NaN           NaN         NaN             12.0         NaN   \n",
      "208         NaN           1.0         NaN              8.0         NaN   \n",
      "\n",
      "     Active_Cases  Critical  Tot Cases/1M pop  Deaths/1M pop  Total_Tests  \n",
      "0       2292707.0   18296.0           15194.0          492.0   63139605.0  \n",
      "1        771258.0    8318.0           13716.0          464.0   13206188.0  \n",
      "2        606387.0    8944.0            1466.0           30.0   22149351.0  \n",
      "3        180931.0    2300.0            5974.0          100.0   29716907.0  \n",
      "4        141264.0     539.0            9063.0          162.0    3149807.0  \n",
      "..            ...       ...               ...            ...          ...  \n",
      "204           2.0       NaN            2604.0          200.0         61.0  \n",
      "205           6.0       NaN             495.0            NaN        424.0  \n",
      "206           0.0       NaN            3726.0            NaN       1816.0  \n",
      "207           0.0       NaN           14981.0            NaN          NaN  \n",
      "208           1.0       NaN              17.0            2.0          NaN  \n",
      "\n",
      "[209 rows x 14 columns]\n"
     ]
    }
   ],
   "source": [
    "print(data)"
   ]
  },
  {
   "cell_type": "code",
   "execution_count": 24,
   "id": "c48f0b17-5f8b-4457-8be9-690a7b0ace71",
   "metadata": {},
   "outputs": [],
   "source": [
    "# Replace NaN or None values with \"NULL\" in the DataFrame\n",
    "data = data.fillna(\"NULL\")\n",
    "\n",
    "# Save the processed data to Excel\n",
    "data.to_excel(\"Processed_World_Data.xlsx\", index=False)\n"
   ]
  },
  {
   "cell_type": "code",
   "execution_count": 26,
   "id": "622cb72c-1d0e-4814-b26b-04ee7e36a1ed",
   "metadata": {},
   "outputs": [],
   "source": [
    "# Load the Excel file\n",
    "data2 = pd.read_csv(\"Country_Data.csv\")\n",
    "\n",
    "# Replace blank or NaN values with None (interpreted as NULL in SQL)\n",
    "data2 = data2.where(pd.notnull(data), None)"
   ]
  },
  {
   "cell_type": "code",
   "execution_count": 28,
   "id": "1a0f6dd1-4b17-42ce-af29-fac013421e25",
   "metadata": {},
   "outputs": [],
   "source": [
    "# Replace NaN or None values with \"NULL\" in the DataFrame\n",
    "data2 = data2.fillna(\"NULL\")\n",
    "\n",
    "# Save the processed data to Excel\n",
    "data2.to_excel(\"Processed_Country_Data.xlsx\", index=False)\n"
   ]
  },
  {
   "cell_type": "code",
   "execution_count": null,
   "id": "365151aa-1e7e-4c15-a1f0-3b666dab16d9",
   "metadata": {},
   "outputs": [],
   "source": []
  }
 ],
 "metadata": {
  "kernelspec": {
   "display_name": "Python 3 (ipykernel)",
   "language": "python",
   "name": "python3"
  },
  "language_info": {
   "codemirror_mode": {
    "name": "ipython",
    "version": 3
   },
   "file_extension": ".py",
   "mimetype": "text/x-python",
   "name": "python",
   "nbconvert_exporter": "python",
   "pygments_lexer": "ipython3",
   "version": "3.12.4"
  }
 },
 "nbformat": 4,
 "nbformat_minor": 5
}
